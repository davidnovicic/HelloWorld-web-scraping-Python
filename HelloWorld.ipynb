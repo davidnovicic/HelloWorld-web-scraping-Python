{
 "cells": [
  {
   "cell_type": "code",
   "execution_count": 740,
   "id": "84974953-96a4-4549-bb45-7865c0248359",
   "metadata": {},
   "outputs": [],
   "source": [
    "import requests"
   ]
  },
  {
   "cell_type": "code",
   "execution_count": 741,
   "id": "570a6198-2623-46f7-affe-d65f074fb3dc",
   "metadata": {},
   "outputs": [],
   "source": [
    "jobs_url = \"https://www.helloworld.rs/oglasi-za-posao/?isource=Helloworld.rs&icampaign=home-fancy-intro&imedium=site\""
   ]
  },
  {
   "cell_type": "code",
   "execution_count": 742,
   "id": "9ee42057-04e5-42fc-b431-2d6b6004e70b",
   "metadata": {},
   "outputs": [],
   "source": [
    "HEADERS = { \"User-Agent\": \"Mozilla/5.0 (X11; Ubuntu; Linux x86_64; rv:136.0) Gecko/20100101 Firefox/136.0\"}"
   ]
  },
  {
   "cell_type": "code",
   "execution_count": null,
   "id": "57e33446-20b2-47c0-ad1b-f72dd98dce26",
   "metadata": {},
   "outputs": [],
   "source": []
  },
  {
   "cell_type": "code",
   "execution_count": 743,
   "id": "89e2e43d-8500-46fe-8e8e-95f3672817c1",
   "metadata": {},
   "outputs": [],
   "source": [
    "response = requests.get(jobs_url, headers=HEADERS)"
   ]
  },
  {
   "cell_type": "code",
   "execution_count": 744,
   "id": "78cce345-ac8c-41a4-83d1-eca093bab170",
   "metadata": {},
   "outputs": [
    {
     "data": {
      "text/plain": [
       "200"
      ]
     },
     "execution_count": 744,
     "metadata": {},
     "output_type": "execute_result"
    }
   ],
   "source": [
    "response.status_code"
   ]
  },
  {
   "cell_type": "code",
   "execution_count": 745,
   "id": "e24183bd-8552-4967-8ba5-bd7300b34b07",
   "metadata": {},
   "outputs": [
    {
     "data": {
      "text/plain": [
       "512629"
      ]
     },
     "execution_count": 745,
     "metadata": {},
     "output_type": "execute_result"
    }
   ],
   "source": [
    "len(response.text)"
   ]
  },
  {
   "cell_type": "code",
   "execution_count": 746,
   "id": "cbc1acff-03c0-4585-abfb-1f25840e6366",
   "metadata": {},
   "outputs": [],
   "source": [
    "job_contents = response.text"
   ]
  },
  {
   "cell_type": "code",
   "execution_count": 747,
   "id": "9c227c23-6467-4044-8e53-2d977e0460c0",
   "metadata": {},
   "outputs": [],
   "source": [
    "from bs4 import BeautifulSoup"
   ]
  },
  {
   "cell_type": "code",
   "execution_count": 748,
   "id": "a451c441-813f-45eb-b1c0-3b8dac1563b9",
   "metadata": {},
   "outputs": [],
   "source": [
    "soup = BeautifulSoup(job_contents, 'html.parser')"
   ]
  },
  {
   "cell_type": "code",
   "execution_count": null,
   "id": "c83a2f27-8864-45d8-aabb-d619cb0fa6bc",
   "metadata": {},
   "outputs": [],
   "source": []
  },
  {
   "cell_type": "code",
   "execution_count": 749,
   "id": "4406e7c8-5eb3-46e4-85fd-6800edd558ed",
   "metadata": {},
   "outputs": [],
   "source": [
    "## JOB TITLE TAG "
   ]
  },
  {
   "cell_type": "code",
   "execution_count": null,
   "id": "910baacd-3077-4b44-9dba-53001ce3b0b8",
   "metadata": {},
   "outputs": [],
   "source": []
  },
  {
   "cell_type": "code",
   "execution_count": 851,
   "id": "44ece3df-cd57-4406-adc5-809a9ff8ed40",
   "metadata": {},
   "outputs": [],
   "source": [
    "job_titles = soup.find_all(\"h3\")"
   ]
  },
  {
   "cell_type": "code",
   "execution_count": 874,
   "id": "e1b2cb63-c14c-4d3a-a9ef-486e0f64840f",
   "metadata": {},
   "outputs": [
    {
     "data": {
      "text/plain": [
       "'Šef IT sektora Polovnih Automobila (Head of Software Development)'"
      ]
     },
     "execution_count": 874,
     "metadata": {},
     "output_type": "execute_result"
    }
   ],
   "source": [
    "job_titles[0].find('a').text.strip()"
   ]
  },
  {
   "cell_type": "code",
   "execution_count": null,
   "id": "f0bd14a7-f403-41ef-9548-69b73c9f9fce",
   "metadata": {},
   "outputs": [],
   "source": []
  },
  {
   "cell_type": "code",
   "execution_count": null,
   "id": "7914b91b-174a-4ae3-b67e-3d3cf7098a17",
   "metadata": {},
   "outputs": [],
   "source": []
  },
  {
   "cell_type": "code",
   "execution_count": 863,
   "id": "36c2a1a1-12b2-46fd-b13f-7610e3cba05c",
   "metadata": {},
   "outputs": [
    {
     "data": {
      "text/plain": [
       "30"
      ]
     },
     "execution_count": 863,
     "metadata": {},
     "output_type": "execute_result"
    }
   ],
   "source": [
    "len(job_titles)"
   ]
  },
  {
   "cell_type": "code",
   "execution_count": 754,
   "id": "adbd930c-6ef1-4077-8941-af090aebdcb2",
   "metadata": {},
   "outputs": [
    {
     "data": {
      "text/plain": [
       "'Software and Infrastructure Architect'"
      ]
     },
     "execution_count": 754,
     "metadata": {},
     "output_type": "execute_result"
    }
   ],
   "source": [
    "job_titles[3].text.strip()"
   ]
  },
  {
   "cell_type": "code",
   "execution_count": null,
   "id": "68dbc925-e0ff-4d4f-bf3c-b538596bd02a",
   "metadata": {},
   "outputs": [],
   "source": []
  },
  {
   "cell_type": "code",
   "execution_count": 755,
   "id": "9fa4a0bf-210d-447d-845f-b0dedb71d610",
   "metadata": {},
   "outputs": [
    {
     "data": {
      "text/plain": [
       "'https://helloworld.rs/posao/Sef-IT-sektora-Polovnih-Automobila-Head-of-Software-Development/Polovni-automobili-deo-Inspira-grupe/658948?isource=Helloworld.rs&icampaign=home-fancy-intro&imedium=site&disable_saved_search=1&show_more=1&ilist=11&item_index=0'"
      ]
     },
     "execution_count": 755,
     "metadata": {},
     "output_type": "execute_result"
    }
   ],
   "source": [
    "\"https://helloworld.rs\" + get_job_titles[0]['href']"
   ]
  },
  {
   "cell_type": "code",
   "execution_count": 756,
   "id": "0d07f922-2036-4d5f-8f67-c22a15fbbbb0",
   "metadata": {},
   "outputs": [
    {
     "name": "stdout",
     "output_type": "stream",
     "text": [
      "https://helloworld.rs/posao/Sef-IT-sektora-Polovnih-Automobila-Head-of-Software-Development/Polovni-automobili-deo-Inspira-grupe/658948?isource=Helloworld.rs&icampaign=home-fancy-intro&imedium=site&disable_saved_search=1&show_more=1&ilist=11&item_index=0\n"
     ]
    }
   ],
   "source": [
    "job_url = \"https://helloworld.rs\" + get_job_titles[0]['href']\n",
    "\n",
    "print(job_url)"
   ]
  },
  {
   "cell_type": "code",
   "execution_count": 757,
   "id": "fb983678-185a-413c-bfdc-acee3014ccb4",
   "metadata": {},
   "outputs": [
    {
     "name": "stdout",
     "output_type": "stream",
     "text": [
      "Šef IT sektora Polovnih Automobila (Head of Software Development)\n"
     ]
    }
   ],
   "source": [
    "job_title = job_titles[0].text.strip()\n",
    "\n",
    "print(job_title)"
   ]
  },
  {
   "cell_type": "code",
   "execution_count": null,
   "id": "e165b5bd-f75f-4c97-8931-80c23c1beaff",
   "metadata": {},
   "outputs": [],
   "source": []
  },
  {
   "cell_type": "code",
   "execution_count": 870,
   "id": "35bbc9b3-fb4a-4717-ac51-0e48bb81f6f1",
   "metadata": {},
   "outputs": [],
   "source": [
    "## COMPANY INFO TAG"
   ]
  },
  {
   "cell_type": "code",
   "execution_count": null,
   "id": "4d9184f8-1fe6-49f5-874c-931c6d24e9c4",
   "metadata": {},
   "outputs": [],
   "source": []
  },
  {
   "cell_type": "code",
   "execution_count": 1209,
   "id": "7b42c5a1-5a64-4460-9e36-b7dc9fd4a6c3",
   "metadata": {},
   "outputs": [],
   "source": [
    "company_url = soup.find_all(\"h4\")"
   ]
  },
  {
   "cell_type": "code",
   "execution_count": 1210,
   "id": "b8e0df7b-37cc-4085-a8a4-49e2148c9afc",
   "metadata": {},
   "outputs": [
    {
     "data": {
      "text/plain": [
       "30"
      ]
     },
     "execution_count": 1210,
     "metadata": {},
     "output_type": "execute_result"
    }
   ],
   "source": [
    "len(a_company_info_tag)"
   ]
  },
  {
   "cell_type": "code",
   "execution_count": null,
   "id": "f9dd0c21-c38a-40ba-bc99-90ce533ed506",
   "metadata": {},
   "outputs": [],
   "source": []
  },
  {
   "cell_type": "code",
   "execution_count": 1211,
   "id": "74070221-76d8-4564-b468-786de70651fc",
   "metadata": {},
   "outputs": [
    {
     "data": {
      "text/plain": [
       "'https://www.helloworld.rs/kompanija/Inspira-grupa/292'"
      ]
     },
     "execution_count": 1211,
     "metadata": {},
     "output_type": "execute_result"
    }
   ],
   "source": [
    "company_url[0].find('a')['href']"
   ]
  },
  {
   "cell_type": "markdown",
   "id": "ee7283bb-2dcf-4cd6-926f-30a2a17a0bdc",
   "metadata": {},
   "source": []
  },
  {
   "cell_type": "code",
   "execution_count": 1190,
   "id": "528d43f4-73b2-4146-b43a-e3baffab9692",
   "metadata": {},
   "outputs": [],
   "source": [
    "## JOB DES TAG"
   ]
  },
  {
   "cell_type": "code",
   "execution_count": null,
   "id": "725c67bf-5e0e-440b-b7b2-cecd3cab706e",
   "metadata": {},
   "outputs": [],
   "source": []
  },
  {
   "cell_type": "code",
   "execution_count": 1191,
   "id": "52456afa-5e2a-49f4-a8f8-e6a26ed14b8e",
   "metadata": {},
   "outputs": [],
   "source": [
    "job_des_tag = soup.find_all(\"div\", {\"class\":\"grid gap-1\"})"
   ]
  },
  {
   "cell_type": "code",
   "execution_count": 1192,
   "id": "043dceb9-1703-4a8f-8904-2f00211e149e",
   "metadata": {},
   "outputs": [
    {
     "data": {
      "text/plain": [
       "42"
      ]
     },
     "execution_count": 1192,
     "metadata": {},
     "output_type": "execute_result"
    }
   ],
   "source": [
    "len(job_des_tag)"
   ]
  },
  {
   "cell_type": "code",
   "execution_count": 1193,
   "id": "91d85511-13d6-42a5-b8f1-45596d8458d5",
   "metadata": {},
   "outputs": [],
   "source": [
    "p_des_tag = job_des_tag[0].find_all('p')"
   ]
  },
  {
   "cell_type": "code",
   "execution_count": 1194,
   "id": "62e60087-451b-4023-aabf-4b3c7175c7ff",
   "metadata": {},
   "outputs": [
    {
     "data": {
      "text/plain": [
       "'Podrška pri preseljenju'"
      ]
     },
     "execution_count": 1194,
     "metadata": {},
     "output_type": "execute_result"
    }
   ],
   "source": [
    "p_des_tag[0].text"
   ]
  },
  {
   "cell_type": "code",
   "execution_count": 1195,
   "id": "b14dccb7-df8a-461d-bcfc-1e4b4a94a84c",
   "metadata": {},
   "outputs": [
    {
     "data": {
      "text/plain": [
       "'Dobrovoljno zdravstveno osiguranje'"
      ]
     },
     "execution_count": 1195,
     "metadata": {},
     "output_type": "execute_result"
    }
   ],
   "source": [
    "p_des_tag[1].text"
   ]
  },
  {
   "cell_type": "code",
   "execution_count": null,
   "id": "75eb4809-e38a-4e82-8ab6-bdd58c9b2a0a",
   "metadata": {},
   "outputs": [],
   "source": []
  },
  {
   "cell_type": "code",
   "execution_count": 1196,
   "id": "99046a25-24f4-41af-a590-6bba993ec168",
   "metadata": {},
   "outputs": [],
   "source": [
    "## Function"
   ]
  },
  {
   "cell_type": "code",
   "execution_count": null,
   "id": "c8eea70c-2db0-4495-9dab-f61590094892",
   "metadata": {},
   "outputs": [],
   "source": []
  },
  {
   "cell_type": "code",
   "execution_count": 1260,
   "id": "e1c8e1b7-884c-4b03-89fb-acb9a2093a6c",
   "metadata": {},
   "outputs": [],
   "source": [
    "def get_job_info(job_title):\n",
    "    \n",
    "    # returns all the required info about jobs\n",
    "\n",
    "    try: \n",
    "    \n",
    "        get_job_info = job_title.find_all(\"a\")\n",
    "          \n",
    "        job_t = get_job_info[0].text.strip()\n",
    "        \n",
    "        job_url = \"https://helloworld.rs\" + get_job_info[0]['href']\n",
    "\n",
    "    except: \n",
    "        job_t =  \"\",\n",
    "        job_url = \"\",\n",
    "      \n",
    "    return job_t, job_url\n",
    "\n",
    "\n",
    "def get_company_url(company_url):\n",
    "\n",
    "    try:\n",
    "\n",
    "        get_company_url = company_url.find_all('a')\n",
    "        get_c_url = get_company_url[0]['href']\n",
    "\n",
    "        return get_c_url\n",
    "\n",
    "    except:\n",
    "\n",
    "        get_c_url = \"\"\n",
    "        \n",
    "        "
   ]
  },
  {
   "cell_type": "code",
   "execution_count": null,
   "id": "90805e06-7a61-4fb4-ab7f-f233e03ef6dd",
   "metadata": {},
   "outputs": [],
   "source": []
  },
  {
   "cell_type": "code",
   "execution_count": 1261,
   "id": "7631a74c-8822-4f88-9cf0-ce0bc96fa826",
   "metadata": {},
   "outputs": [
    {
     "data": {
      "text/plain": [
       "30"
      ]
     },
     "execution_count": 1261,
     "metadata": {},
     "output_type": "execute_result"
    }
   ],
   "source": [
    "len(company_url)"
   ]
  },
  {
   "cell_type": "code",
   "execution_count": 1266,
   "id": "00433923-f1f4-4675-8437-284d0041e55a",
   "metadata": {},
   "outputs": [],
   "source": [
    "jobs_dict = {\n",
    "    'job_title': [],\n",
    "    'job_url': [],\n",
    "    'company_url': [],\n",
    "}\n",
    "\n",
    "for i in range(len(job_titles)):\n",
    "    job_info = get_job_info(job_titles[i])\n",
    "    jobs_dict['job_title'].append(job_info[0])\n",
    "    jobs_dict['job_url'].append(job_info[1])\n",
    "    \n",
    "    \n",
    "for i in range(len(company_url)):\n",
    "    comp_urls = get_company_url(company_url[i])\n",
    "    jobs_dict['company_url'].append(comp_urls)\n",
    "    \n",
    "    \n",
    "        "
   ]
  },
  {
   "cell_type": "code",
   "execution_count": 1267,
   "id": "59283a31-c6b3-445b-bd10-7b49dd41e375",
   "metadata": {},
   "outputs": [
    {
     "data": {
      "text/plain": [
       "{'job_title': ['Šef IT sektora Polovnih Automobila (Head of Software Development)',\n",
       "  'Senior Full Stack Developer, Healthcare',\n",
       "  'C++ Software Engineer',\n",
       "  'Software and Infrastructure Architect',\n",
       "  'IT Help Desk tehničar',\n",
       "  'Software Technician',\n",
       "  'Data Security Partner - German Language',\n",
       "  'Savetnik za arhitekturu podataka',\n",
       "  'Applications Analyst',\n",
       "  'Technical Project Manager',\n",
       "  'Data Scientist',\n",
       "  'Business Consultant (Warehouse Management System)',\n",
       "  'Network Engineer',\n",
       "  'Junior Security Engineer',\n",
       "  'CRM Marketing Cloud Functional Consultant',\n",
       "  'C/C++ Engineer',\n",
       "  'Data Science / AI inženjer',\n",
       "  'Microsoft Dynamics ERP konsultant',\n",
       "  'Application Developer - Internship',\n",
       "  'Cloud Full Stack Team Lead',\n",
       "  'Cloud DevOps Team Lead',\n",
       "  'SAP Sales and Service Cloud Developer',\n",
       "  'Senior Java Expert',\n",
       "  'Microsoft 365 Analyst',\n",
       "  'Data Analyst',\n",
       "  'Software Developer/Engineer',\n",
       "  'Linux Systems Engineer',\n",
       "  'Financial Data Analyst (Stock Market Data)',\n",
       "  'Cloud Engineer',\n",
       "  'Senior Software Development Engineer'],\n",
       " 'job_url': ['https://helloworld.rs/posao/Sef-IT-sektora-Polovnih-Automobila-Head-of-Software-Development/Polovni-automobili-deo-Inspira-grupe/658948?isource=Helloworld.rs&icampaign=home-fancy-intro&imedium=site&disable_saved_search=1&show_more=1&ilist=11&item_index=0',\n",
       "  'https://helloworld.rs/posao/Senior-Full-Stack-Developer-Healthcare/The-Idea-Compiler/658406?isource=Helloworld.rs&icampaign=home-fancy-intro&imedium=site&disable_saved_search=1&show_more=1&ilist=11&item_index=1',\n",
       "  'https://helloworld.rs/posao/cplusplus-Software-Engineer/Cisco-Srbija-d.o.o/656588?isource=Helloworld.rs&icampaign=home-fancy-intro&imedium=site&disable_saved_search=1&show_more=1&ilist=11&item_index=2',\n",
       "  'https://helloworld.rs/posao/Software-and-Infrastructure-Architect/Robert-Bosch-d.o.o/660078?isource=Helloworld.rs&icampaign=home-fancy-intro&imedium=site&disable_saved_search=1&show_more=1&ilist=11&item_index=3',\n",
       "  'https://helloworld.rs/posao/IT-Help-Desk-tehnicar/Wiener-Stadtische-osiguranje-a.d.o/660034?isource=Helloworld.rs&icampaign=home-fancy-intro&imedium=site&disable_saved_search=1&show_more=1&ilist=11&item_index=4',\n",
       "  'https://helloworld.rs/posao/Software-Technician/TTTech-Auto/660161?isource=Helloworld.rs&icampaign=home-fancy-intro&imedium=site&disable_saved_search=1&show_more=1&ilist=11&item_index=5',\n",
       "  'https://helloworld.rs/posao/Data-Security-Partner-German-Language/Robert-Bosch-d.o.o/659225?isource=HelloWorld.rs&icampaign=autokonverter-label&imedium=site&disable_saved_search=1&show_more=1&ilist=11&icontent=job&item_index=6',\n",
       "  'https://helloworld.rs/posao/Savetnik-za-arhitekturu-podataka/OTP-banka-Srbija/659484?isource=Helloworld.rs&icampaign=home-fancy-intro&imedium=site&disable_saved_search=1&show_more=1&ilist=11&item_index=7',\n",
       "  'https://helloworld.rs/posao/Applications-Analyst/IPS-Energy-Serbia/659257?isource=Helloworld.rs&icampaign=home-fancy-intro&imedium=site&disable_saved_search=1&show_more=1&ilist=11&item_index=8',\n",
       "  'https://helloworld.rs/posao/Technical-Project-Manager/IPS-Energy-Serbia/659258?isource=Helloworld.rs&icampaign=home-fancy-intro&imedium=site&disable_saved_search=1&show_more=1&ilist=11&item_index=9',\n",
       "  'https://helloworld.rs/posao/Data-Scientist/Raiffeisen-banka-a.d/658996?isource=Helloworld.rs&icampaign=home-fancy-intro&imedium=site&disable_saved_search=1&show_more=1&ilist=11&item_index=10',\n",
       "  'https://helloworld.rs/posao/Business-Consultant-Warehouse-Management-System/Axians-Serbia-d.o.o/658660?isource=Helloworld.rs&icampaign=home-fancy-intro&imedium=site&disable_saved_search=1&show_more=1&ilist=11&item_index=11',\n",
       "  'https://helloworld.rs/posao/Network-Engineer/CCBill-SRB-d.o.o/658758?isource=Helloworld.rs&icampaign=home-fancy-intro&imedium=site&disable_saved_search=1&show_more=1&ilist=11&item_index=12',\n",
       "  'https://helloworld.rs/posao/Junior-Security-Engineer/ASEE-Solutions/658884?isource=Helloworld.rs&icampaign=home-fancy-intro&imedium=site&disable_saved_search=1&show_more=1&ilist=11&item_index=13',\n",
       "  'https://helloworld.rs/posao/CRM-Marketing-Cloud-Functional-Consultant/Robert-Bosch-d.o.o/658443?isource=Helloworld.rs&icampaign=home-fancy-intro&imedium=site&disable_saved_search=1&show_more=1&ilist=11&item_index=14',\n",
       "  'https://helloworld.rs/posao/Ccplusplus-Engineer/RT-RK-d.o.o/658489?isource=Helloworld.rs&icampaign=home-fancy-intro&imedium=site&disable_saved_search=1&show_more=1&ilist=11&item_index=15',\n",
       "  'https://helloworld.rs/posao/Data-Science-AI-inzenjer/OTP-banka-Srbija/658623?isource=Helloworld.rs&icampaign=home-fancy-intro&imedium=site&disable_saved_search=1&show_more=1&ilist=11&item_index=16',\n",
       "  'https://helloworld.rs/posao/Microsoft-Dynamics-ERP-konsultant/Coming-Computer-Engineering-d.o.o/658626?isource=Helloworld.rs&icampaign=home-fancy-intro&imedium=site&disable_saved_search=1&show_more=1&ilist=11&item_index=17',\n",
       "  'https://helloworld.rs/posao/Application-Developer-Internship/DIBS42-d.o.o/658021?isource=Helloworld.rs&icampaign=home-fancy-intro&imedium=site&disable_saved_search=1&show_more=1&ilist=11&item_index=18',\n",
       "  'https://helloworld.rs/posao/Cloud-Full-Stack-Team-Lead/RT-RK-d.o.o/655103?isource=Helloworld.rs&icampaign=home-fancy-intro&imedium=site&disable_saved_search=1&show_more=1&ilist=11&item_index=19',\n",
       "  'https://helloworld.rs/posao/Cloud-DevOps-Team-Lead/RT-RK-d.o.o/655142?isource=Helloworld.rs&icampaign=home-fancy-intro&imedium=site&disable_saved_search=1&show_more=1&ilist=11&item_index=20',\n",
       "  'https://helloworld.rs/posao/sapsysapppro-Sales-and-Service-Cloud-Developer/CREATEQ/658062?isource=Helloworld.rs&icampaign=home-fancy-intro&imedium=site&disable_saved_search=1&show_more=1&ilist=11&item_index=21',\n",
       "  'https://helloworld.rs/posao/Senior-Java-Expert/CREATEQ/657739?isource=Helloworld.rs&icampaign=home-fancy-intro&imedium=site&disable_saved_search=1&show_more=1&ilist=11&item_index=22',\n",
       "  'https://helloworld.rs/posao/Microsoft-365-Analyst/STRABAG-d.o.o/657795?isource=Helloworld.rs&icampaign=home-fancy-intro&imedium=site&disable_saved_search=1&show_more=1&ilist=11&item_index=23',\n",
       "  'https://helloworld.rs/posao/Data-Analyst/Cube-Team-d.o.o/657851?isource=Helloworld.rs&icampaign=home-fancy-intro&imedium=site&disable_saved_search=1&show_more=1&ilist=11&item_index=24',\n",
       "  'https://helloworld.rs/posao/Software-DeveloperEngineer/TTTech-Auto/657866?isource=Helloworld.rs&icampaign=home-fancy-intro&imedium=site&disable_saved_search=1&show_more=1&ilist=11&item_index=25',\n",
       "  'https://helloworld.rs/posao/Linux-Systems-Engineer/CCBill-SRB-d.o.o/657424?isource=Helloworld.rs&icampaign=home-fancy-intro&imedium=site&disable_saved_search=1&show_more=1&ilist=11&item_index=26',\n",
       "  'https://helloworld.rs/posao/Financial-Data-Analyst-Stock-Market-Data/TeleTrader-d.o.o/657477?isource=Helloworld.rs&icampaign=home-fancy-intro&imedium=site&disable_saved_search=1&show_more=1&ilist=11&item_index=27',\n",
       "  'https://helloworld.rs/posao/Cloud-Engineer/STRABAG-d.o.o/657658?isource=Helloworld.rs&icampaign=home-fancy-intro&imedium=site&disable_saved_search=1&show_more=1&ilist=11&item_index=28',\n",
       "  'https://helloworld.rs/posao/Senior-Software-Development-Engineer/GoDaddy/656082?isource=Helloworld.rs&icampaign=home-fancy-intro&imedium=site&disable_saved_search=1&show_more=1&ilist=11&item_index=29'],\n",
       " 'company_url': ['https://www.helloworld.rs/kompanija/Inspira-grupa/292',\n",
       "  'https://www.helloworld.rs/kompanija/The-Idea-Compiler/742',\n",
       "  'https://www.helloworld.rs/kompanija/Cisco-Serbia/966',\n",
       "  'https://www.helloworld.rs/kompanija/Bosch-Srbija/32',\n",
       "  'https://www.helloworld.rs/kompanija/Wiener-Stdtische-osiguranje-a.d.o.-Beograd/60',\n",
       "  'https://www.helloworld.rs/kompanija/TTTech-Auto/1883',\n",
       "  'https://www.helloworld.rs/kompanija/Bosch-Srbija/32',\n",
       "  'https://www.helloworld.rs/kompanija/OTP-banka/1627',\n",
       "  'https://www.helloworld.rs/kompanija/IPS-Energy.rs-doo/1402',\n",
       "  'https://www.helloworld.rs/kompanija/IPS-Energy.rs-doo/1402',\n",
       "  'https://www.helloworld.rs/kompanija/Raiffeisen-banka-a.d/252',\n",
       "  'https://www.helloworld.rs/kompanija/Axians-Serbia-d.o.o/230',\n",
       "  'https://www.helloworld.rs/kompanija/CCBill/577',\n",
       "  'https://www.helloworld.rs/kompanija/ASEE/96',\n",
       "  'https://www.helloworld.rs/kompanija/Bosch-Srbija/32',\n",
       "  'https://www.helloworld.rs/kompanija/RT-RK-d.o.o/28',\n",
       "  'https://www.helloworld.rs/kompanija/OTP-banka/1627',\n",
       "  'https://www.helloworld.rs/kompanija/Coming-Computer-Engineering-d.o.o/79',\n",
       "  None,\n",
       "  'https://www.helloworld.rs/kompanija/RT-RK-d.o.o/28',\n",
       "  'https://www.helloworld.rs/kompanija/RT-RK-d.o.o/28',\n",
       "  'https://www.helloworld.rs/kompanija/CREATEQ/781',\n",
       "  'https://www.helloworld.rs/kompanija/CREATEQ/781',\n",
       "  'https://www.helloworld.rs/kompanija/Network-eG/394',\n",
       "  'https://www.helloworld.rs/kompanija/CUBE-Team/1227',\n",
       "  'https://www.helloworld.rs/kompanija/TTTech-Auto/1883',\n",
       "  'https://www.helloworld.rs/kompanija/CCBill/577',\n",
       "  'https://www.helloworld.rs/kompanija/TeleTrader-d.o.o/14',\n",
       "  'https://www.helloworld.rs/kompanija/Network-eG/394',\n",
       "  'https://www.helloworld.rs/kompanija/GoDaddy/1301']}"
      ]
     },
     "execution_count": 1267,
     "metadata": {},
     "output_type": "execute_result"
    }
   ],
   "source": [
    "jobs_dict"
   ]
  },
  {
   "cell_type": "code",
   "execution_count": null,
   "id": "54a14b3c-8588-4f79-8df7-48818e7510fc",
   "metadata": {},
   "outputs": [],
   "source": []
  },
  {
   "cell_type": "code",
   "execution_count": null,
   "id": "13ff54a5-4807-409c-b12f-90a7f086d8f6",
   "metadata": {},
   "outputs": [],
   "source": []
  },
  {
   "cell_type": "code",
   "execution_count": 1268,
   "id": "4e63d682-906b-4973-93fb-df593d384801",
   "metadata": {},
   "outputs": [],
   "source": [
    "import pandas as pd"
   ]
  },
  {
   "cell_type": "code",
   "execution_count": 1269,
   "id": "8316e65e-9df9-4bdf-b874-d4a3f26d619f",
   "metadata": {},
   "outputs": [],
   "source": [
    "topic_repos_df = pd.DataFrame(jobs_dict)"
   ]
  },
  {
   "cell_type": "code",
   "execution_count": 1270,
   "id": "67b85691-f10e-4274-88fc-3661df952657",
   "metadata": {},
   "outputs": [
    {
     "data": {
      "text/html": [
       "<div>\n",
       "<style scoped>\n",
       "    .dataframe tbody tr th:only-of-type {\n",
       "        vertical-align: middle;\n",
       "    }\n",
       "\n",
       "    .dataframe tbody tr th {\n",
       "        vertical-align: top;\n",
       "    }\n",
       "\n",
       "    .dataframe thead th {\n",
       "        text-align: right;\n",
       "    }\n",
       "</style>\n",
       "<table border=\"1\" class=\"dataframe\">\n",
       "  <thead>\n",
       "    <tr style=\"text-align: right;\">\n",
       "      <th></th>\n",
       "      <th>job_title</th>\n",
       "      <th>job_url</th>\n",
       "      <th>company_url</th>\n",
       "    </tr>\n",
       "  </thead>\n",
       "  <tbody>\n",
       "    <tr>\n",
       "      <th>0</th>\n",
       "      <td>Šef IT sektora Polovnih Automobila (Head of So...</td>\n",
       "      <td>https://helloworld.rs/posao/Sef-IT-sektora-Pol...</td>\n",
       "      <td>https://www.helloworld.rs/kompanija/Inspira-gr...</td>\n",
       "    </tr>\n",
       "    <tr>\n",
       "      <th>1</th>\n",
       "      <td>Senior Full Stack Developer, Healthcare</td>\n",
       "      <td>https://helloworld.rs/posao/Senior-Full-Stack-...</td>\n",
       "      <td>https://www.helloworld.rs/kompanija/The-Idea-C...</td>\n",
       "    </tr>\n",
       "    <tr>\n",
       "      <th>2</th>\n",
       "      <td>C++ Software Engineer</td>\n",
       "      <td>https://helloworld.rs/posao/cplusplus-Software...</td>\n",
       "      <td>https://www.helloworld.rs/kompanija/Cisco-Serb...</td>\n",
       "    </tr>\n",
       "    <tr>\n",
       "      <th>3</th>\n",
       "      <td>Software and Infrastructure Architect</td>\n",
       "      <td>https://helloworld.rs/posao/Software-and-Infra...</td>\n",
       "      <td>https://www.helloworld.rs/kompanija/Bosch-Srbi...</td>\n",
       "    </tr>\n",
       "    <tr>\n",
       "      <th>4</th>\n",
       "      <td>IT Help Desk tehničar</td>\n",
       "      <td>https://helloworld.rs/posao/IT-Help-Desk-tehni...</td>\n",
       "      <td>https://www.helloworld.rs/kompanija/Wiener-Std...</td>\n",
       "    </tr>\n",
       "    <tr>\n",
       "      <th>5</th>\n",
       "      <td>Software Technician</td>\n",
       "      <td>https://helloworld.rs/posao/Software-Technicia...</td>\n",
       "      <td>https://www.helloworld.rs/kompanija/TTTech-Aut...</td>\n",
       "    </tr>\n",
       "    <tr>\n",
       "      <th>6</th>\n",
       "      <td>Data Security Partner - German Language</td>\n",
       "      <td>https://helloworld.rs/posao/Data-Security-Part...</td>\n",
       "      <td>https://www.helloworld.rs/kompanija/Bosch-Srbi...</td>\n",
       "    </tr>\n",
       "    <tr>\n",
       "      <th>7</th>\n",
       "      <td>Savetnik za arhitekturu podataka</td>\n",
       "      <td>https://helloworld.rs/posao/Savetnik-za-arhite...</td>\n",
       "      <td>https://www.helloworld.rs/kompanija/OTP-banka/...</td>\n",
       "    </tr>\n",
       "    <tr>\n",
       "      <th>8</th>\n",
       "      <td>Applications Analyst</td>\n",
       "      <td>https://helloworld.rs/posao/Applications-Analy...</td>\n",
       "      <td>https://www.helloworld.rs/kompanija/IPS-Energy...</td>\n",
       "    </tr>\n",
       "    <tr>\n",
       "      <th>9</th>\n",
       "      <td>Technical Project Manager</td>\n",
       "      <td>https://helloworld.rs/posao/Technical-Project-...</td>\n",
       "      <td>https://www.helloworld.rs/kompanija/IPS-Energy...</td>\n",
       "    </tr>\n",
       "    <tr>\n",
       "      <th>10</th>\n",
       "      <td>Data Scientist</td>\n",
       "      <td>https://helloworld.rs/posao/Data-Scientist/Rai...</td>\n",
       "      <td>https://www.helloworld.rs/kompanija/Raiffeisen...</td>\n",
       "    </tr>\n",
       "    <tr>\n",
       "      <th>11</th>\n",
       "      <td>Business Consultant (Warehouse Management System)</td>\n",
       "      <td>https://helloworld.rs/posao/Business-Consultan...</td>\n",
       "      <td>https://www.helloworld.rs/kompanija/Axians-Ser...</td>\n",
       "    </tr>\n",
       "    <tr>\n",
       "      <th>12</th>\n",
       "      <td>Network Engineer</td>\n",
       "      <td>https://helloworld.rs/posao/Network-Engineer/C...</td>\n",
       "      <td>https://www.helloworld.rs/kompanija/CCBill/577</td>\n",
       "    </tr>\n",
       "    <tr>\n",
       "      <th>13</th>\n",
       "      <td>Junior Security Engineer</td>\n",
       "      <td>https://helloworld.rs/posao/Junior-Security-En...</td>\n",
       "      <td>https://www.helloworld.rs/kompanija/ASEE/96</td>\n",
       "    </tr>\n",
       "    <tr>\n",
       "      <th>14</th>\n",
       "      <td>CRM Marketing Cloud Functional Consultant</td>\n",
       "      <td>https://helloworld.rs/posao/CRM-Marketing-Clou...</td>\n",
       "      <td>https://www.helloworld.rs/kompanija/Bosch-Srbi...</td>\n",
       "    </tr>\n",
       "    <tr>\n",
       "      <th>15</th>\n",
       "      <td>C/C++ Engineer</td>\n",
       "      <td>https://helloworld.rs/posao/Ccplusplus-Enginee...</td>\n",
       "      <td>https://www.helloworld.rs/kompanija/RT-RK-d.o....</td>\n",
       "    </tr>\n",
       "    <tr>\n",
       "      <th>16</th>\n",
       "      <td>Data Science / AI inženjer</td>\n",
       "      <td>https://helloworld.rs/posao/Data-Science-AI-in...</td>\n",
       "      <td>https://www.helloworld.rs/kompanija/OTP-banka/...</td>\n",
       "    </tr>\n",
       "    <tr>\n",
       "      <th>17</th>\n",
       "      <td>Microsoft Dynamics ERP konsultant</td>\n",
       "      <td>https://helloworld.rs/posao/Microsoft-Dynamics...</td>\n",
       "      <td>https://www.helloworld.rs/kompanija/Coming-Com...</td>\n",
       "    </tr>\n",
       "    <tr>\n",
       "      <th>18</th>\n",
       "      <td>Application Developer - Internship</td>\n",
       "      <td>https://helloworld.rs/posao/Application-Develo...</td>\n",
       "      <td>None</td>\n",
       "    </tr>\n",
       "    <tr>\n",
       "      <th>19</th>\n",
       "      <td>Cloud Full Stack Team Lead</td>\n",
       "      <td>https://helloworld.rs/posao/Cloud-Full-Stack-T...</td>\n",
       "      <td>https://www.helloworld.rs/kompanija/RT-RK-d.o....</td>\n",
       "    </tr>\n",
       "    <tr>\n",
       "      <th>20</th>\n",
       "      <td>Cloud DevOps Team Lead</td>\n",
       "      <td>https://helloworld.rs/posao/Cloud-DevOps-Team-...</td>\n",
       "      <td>https://www.helloworld.rs/kompanija/RT-RK-d.o....</td>\n",
       "    </tr>\n",
       "    <tr>\n",
       "      <th>21</th>\n",
       "      <td>SAP Sales and Service Cloud Developer</td>\n",
       "      <td>https://helloworld.rs/posao/sapsysapppro-Sales...</td>\n",
       "      <td>https://www.helloworld.rs/kompanija/CREATEQ/781</td>\n",
       "    </tr>\n",
       "    <tr>\n",
       "      <th>22</th>\n",
       "      <td>Senior Java Expert</td>\n",
       "      <td>https://helloworld.rs/posao/Senior-Java-Expert...</td>\n",
       "      <td>https://www.helloworld.rs/kompanija/CREATEQ/781</td>\n",
       "    </tr>\n",
       "    <tr>\n",
       "      <th>23</th>\n",
       "      <td>Microsoft 365 Analyst</td>\n",
       "      <td>https://helloworld.rs/posao/Microsoft-365-Anal...</td>\n",
       "      <td>https://www.helloworld.rs/kompanija/Network-eG...</td>\n",
       "    </tr>\n",
       "    <tr>\n",
       "      <th>24</th>\n",
       "      <td>Data Analyst</td>\n",
       "      <td>https://helloworld.rs/posao/Data-Analyst/Cube-...</td>\n",
       "      <td>https://www.helloworld.rs/kompanija/CUBE-Team/...</td>\n",
       "    </tr>\n",
       "    <tr>\n",
       "      <th>25</th>\n",
       "      <td>Software Developer/Engineer</td>\n",
       "      <td>https://helloworld.rs/posao/Software-Developer...</td>\n",
       "      <td>https://www.helloworld.rs/kompanija/TTTech-Aut...</td>\n",
       "    </tr>\n",
       "    <tr>\n",
       "      <th>26</th>\n",
       "      <td>Linux Systems Engineer</td>\n",
       "      <td>https://helloworld.rs/posao/Linux-Systems-Engi...</td>\n",
       "      <td>https://www.helloworld.rs/kompanija/CCBill/577</td>\n",
       "    </tr>\n",
       "    <tr>\n",
       "      <th>27</th>\n",
       "      <td>Financial Data Analyst (Stock Market Data)</td>\n",
       "      <td>https://helloworld.rs/posao/Financial-Data-Ana...</td>\n",
       "      <td>https://www.helloworld.rs/kompanija/TeleTrader...</td>\n",
       "    </tr>\n",
       "    <tr>\n",
       "      <th>28</th>\n",
       "      <td>Cloud Engineer</td>\n",
       "      <td>https://helloworld.rs/posao/Cloud-Engineer/STR...</td>\n",
       "      <td>https://www.helloworld.rs/kompanija/Network-eG...</td>\n",
       "    </tr>\n",
       "    <tr>\n",
       "      <th>29</th>\n",
       "      <td>Senior Software Development Engineer</td>\n",
       "      <td>https://helloworld.rs/posao/Senior-Software-De...</td>\n",
       "      <td>https://www.helloworld.rs/kompanija/GoDaddy/1301</td>\n",
       "    </tr>\n",
       "  </tbody>\n",
       "</table>\n",
       "</div>"
      ],
      "text/plain": [
       "                                            job_title  \\\n",
       "0   Šef IT sektora Polovnih Automobila (Head of So...   \n",
       "1             Senior Full Stack Developer, Healthcare   \n",
       "2                               C++ Software Engineer   \n",
       "3               Software and Infrastructure Architect   \n",
       "4                               IT Help Desk tehničar   \n",
       "5                                 Software Technician   \n",
       "6             Data Security Partner - German Language   \n",
       "7                    Savetnik za arhitekturu podataka   \n",
       "8                                Applications Analyst   \n",
       "9                           Technical Project Manager   \n",
       "10                                     Data Scientist   \n",
       "11  Business Consultant (Warehouse Management System)   \n",
       "12                                   Network Engineer   \n",
       "13                           Junior Security Engineer   \n",
       "14          CRM Marketing Cloud Functional Consultant   \n",
       "15                                     C/C++ Engineer   \n",
       "16                         Data Science / AI inženjer   \n",
       "17                  Microsoft Dynamics ERP konsultant   \n",
       "18                 Application Developer - Internship   \n",
       "19                         Cloud Full Stack Team Lead   \n",
       "20                             Cloud DevOps Team Lead   \n",
       "21              SAP Sales and Service Cloud Developer   \n",
       "22                                 Senior Java Expert   \n",
       "23                              Microsoft 365 Analyst   \n",
       "24                                       Data Analyst   \n",
       "25                        Software Developer/Engineer   \n",
       "26                             Linux Systems Engineer   \n",
       "27         Financial Data Analyst (Stock Market Data)   \n",
       "28                                     Cloud Engineer   \n",
       "29               Senior Software Development Engineer   \n",
       "\n",
       "                                              job_url  \\\n",
       "0   https://helloworld.rs/posao/Sef-IT-sektora-Pol...   \n",
       "1   https://helloworld.rs/posao/Senior-Full-Stack-...   \n",
       "2   https://helloworld.rs/posao/cplusplus-Software...   \n",
       "3   https://helloworld.rs/posao/Software-and-Infra...   \n",
       "4   https://helloworld.rs/posao/IT-Help-Desk-tehni...   \n",
       "5   https://helloworld.rs/posao/Software-Technicia...   \n",
       "6   https://helloworld.rs/posao/Data-Security-Part...   \n",
       "7   https://helloworld.rs/posao/Savetnik-za-arhite...   \n",
       "8   https://helloworld.rs/posao/Applications-Analy...   \n",
       "9   https://helloworld.rs/posao/Technical-Project-...   \n",
       "10  https://helloworld.rs/posao/Data-Scientist/Rai...   \n",
       "11  https://helloworld.rs/posao/Business-Consultan...   \n",
       "12  https://helloworld.rs/posao/Network-Engineer/C...   \n",
       "13  https://helloworld.rs/posao/Junior-Security-En...   \n",
       "14  https://helloworld.rs/posao/CRM-Marketing-Clou...   \n",
       "15  https://helloworld.rs/posao/Ccplusplus-Enginee...   \n",
       "16  https://helloworld.rs/posao/Data-Science-AI-in...   \n",
       "17  https://helloworld.rs/posao/Microsoft-Dynamics...   \n",
       "18  https://helloworld.rs/posao/Application-Develo...   \n",
       "19  https://helloworld.rs/posao/Cloud-Full-Stack-T...   \n",
       "20  https://helloworld.rs/posao/Cloud-DevOps-Team-...   \n",
       "21  https://helloworld.rs/posao/sapsysapppro-Sales...   \n",
       "22  https://helloworld.rs/posao/Senior-Java-Expert...   \n",
       "23  https://helloworld.rs/posao/Microsoft-365-Anal...   \n",
       "24  https://helloworld.rs/posao/Data-Analyst/Cube-...   \n",
       "25  https://helloworld.rs/posao/Software-Developer...   \n",
       "26  https://helloworld.rs/posao/Linux-Systems-Engi...   \n",
       "27  https://helloworld.rs/posao/Financial-Data-Ana...   \n",
       "28  https://helloworld.rs/posao/Cloud-Engineer/STR...   \n",
       "29  https://helloworld.rs/posao/Senior-Software-De...   \n",
       "\n",
       "                                          company_url  \n",
       "0   https://www.helloworld.rs/kompanija/Inspira-gr...  \n",
       "1   https://www.helloworld.rs/kompanija/The-Idea-C...  \n",
       "2   https://www.helloworld.rs/kompanija/Cisco-Serb...  \n",
       "3   https://www.helloworld.rs/kompanija/Bosch-Srbi...  \n",
       "4   https://www.helloworld.rs/kompanija/Wiener-Std...  \n",
       "5   https://www.helloworld.rs/kompanija/TTTech-Aut...  \n",
       "6   https://www.helloworld.rs/kompanija/Bosch-Srbi...  \n",
       "7   https://www.helloworld.rs/kompanija/OTP-banka/...  \n",
       "8   https://www.helloworld.rs/kompanija/IPS-Energy...  \n",
       "9   https://www.helloworld.rs/kompanija/IPS-Energy...  \n",
       "10  https://www.helloworld.rs/kompanija/Raiffeisen...  \n",
       "11  https://www.helloworld.rs/kompanija/Axians-Ser...  \n",
       "12     https://www.helloworld.rs/kompanija/CCBill/577  \n",
       "13        https://www.helloworld.rs/kompanija/ASEE/96  \n",
       "14  https://www.helloworld.rs/kompanija/Bosch-Srbi...  \n",
       "15  https://www.helloworld.rs/kompanija/RT-RK-d.o....  \n",
       "16  https://www.helloworld.rs/kompanija/OTP-banka/...  \n",
       "17  https://www.helloworld.rs/kompanija/Coming-Com...  \n",
       "18                                               None  \n",
       "19  https://www.helloworld.rs/kompanija/RT-RK-d.o....  \n",
       "20  https://www.helloworld.rs/kompanija/RT-RK-d.o....  \n",
       "21    https://www.helloworld.rs/kompanija/CREATEQ/781  \n",
       "22    https://www.helloworld.rs/kompanija/CREATEQ/781  \n",
       "23  https://www.helloworld.rs/kompanija/Network-eG...  \n",
       "24  https://www.helloworld.rs/kompanija/CUBE-Team/...  \n",
       "25  https://www.helloworld.rs/kompanija/TTTech-Aut...  \n",
       "26     https://www.helloworld.rs/kompanija/CCBill/577  \n",
       "27  https://www.helloworld.rs/kompanija/TeleTrader...  \n",
       "28  https://www.helloworld.rs/kompanija/Network-eG...  \n",
       "29   https://www.helloworld.rs/kompanija/GoDaddy/1301  "
      ]
     },
     "execution_count": 1270,
     "metadata": {},
     "output_type": "execute_result"
    }
   ],
   "source": [
    "topic_repos_df"
   ]
  },
  {
   "cell_type": "code",
   "execution_count": null,
   "id": "a251aceb-86a8-4ac1-b06c-1eb16e4554ae",
   "metadata": {},
   "outputs": [],
   "source": []
  },
  {
   "cell_type": "code",
   "execution_count": null,
   "id": "0788fe24-4c4f-42ee-b57a-caaa245ef107",
   "metadata": {},
   "outputs": [],
   "source": []
  },
  {
   "cell_type": "code",
   "execution_count": null,
   "id": "b898eaef-97a6-45c9-a13d-61fe8f36ac51",
   "metadata": {},
   "outputs": [],
   "source": []
  },
  {
   "cell_type": "code",
   "execution_count": null,
   "id": "88174c30-974f-452c-ac2a-af9155a32494",
   "metadata": {},
   "outputs": [],
   "source": []
  },
  {
   "cell_type": "code",
   "execution_count": null,
   "id": "0647e6c8-6876-48c1-aa65-0cf5b45363ae",
   "metadata": {},
   "outputs": [],
   "source": []
  },
  {
   "cell_type": "code",
   "execution_count": null,
   "id": "7e63cc0b-642a-4d30-a6a5-d6d7283f9b76",
   "metadata": {},
   "outputs": [],
   "source": []
  },
  {
   "cell_type": "code",
   "execution_count": null,
   "id": "ffc068a9-b32d-413b-9845-90f39c7b9f1c",
   "metadata": {},
   "outputs": [],
   "source": []
  },
  {
   "cell_type": "code",
   "execution_count": null,
   "id": "c765709e-5531-4a37-9dcf-366f06b987c5",
   "metadata": {},
   "outputs": [],
   "source": []
  }
 ],
 "metadata": {
  "kernelspec": {
   "display_name": "Python 3 (ipykernel)",
   "language": "python",
   "name": "python3"
  },
  "language_info": {
   "codemirror_mode": {
    "name": "ipython",
    "version": 3
   },
   "file_extension": ".py",
   "mimetype": "text/x-python",
   "name": "python",
   "nbconvert_exporter": "python",
   "pygments_lexer": "ipython3",
   "version": "3.12.7"
  }
 },
 "nbformat": 4,
 "nbformat_minor": 5
}
